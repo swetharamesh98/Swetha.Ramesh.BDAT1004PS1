{
 "cells": [
  {
   "cell_type": "markdown",
   "id": "1a9935a6",
   "metadata": {},
   "source": [
    "# 1. C#\n",
    "\n",
    "What data type is each of the following?\n",
    "\n",
    "5                :   Int   \n",
    "5.0              :   Double   \n",
    "5 > 1            :   Boolean   \n",
    "'5'              :   char    \n",
    "5 * 2            :   Int   \n",
    "'5' * 2          :   Int   \n",
    "'5' + '2'        :   Int   \n",
    "5 / 2            :   Int   \n",
    "5 % 2            :   Int    \n",
    "{5, 2, 1}        :   Array   \n",
    "5 == 3           :   Boolean     \n",
    "Pi (the number)  :   Double     "
   ]
  },
  {
   "cell_type": "markdown",
   "id": "6dc442e3",
   "metadata": {},
   "source": [
    "# 2. C#\n",
    "\n",
    "Write (and evaluate) C# expressions that answer these questions:\n",
    "   a. How many letters are there in 'Supercalifragilisticexpialidocious'?\n",
    "   b. Does 'Supercalifragilisticexpialidocious' contain 'ice' as a substring? \n",
    "   c. Which of the following words is the longest:\n",
    "      Supercalifragilisticexpialidocious, Honorificabilitudinitatibus, or Bababadalgharaghtakamminarronnkonn?\n",
    "   d. Which composer comes first in the dictionary: 'Berlioz', 'Borodin', 'Brian' \n",
    "      'Bartok', 'Bellini', 'Buxtehude', 'Bernstein'. Which one comes last"
   ]
  },
  {
   "cell_type": "code",
   "execution_count": 1,
   "id": "a919d7b8",
   "metadata": {},
   "outputs": [
    {
     "name": "stdout",
     "output_type": "stream",
     "text": [
      "34\r\n"
     ]
    }
   ],
   "source": [
    "string str = \"Supercalifragilisticexpialidocious\";\n",
    "int length = str.Length;\n",
    "Console.WriteLine(length)"
   ]
  },
  {
   "cell_type": "code",
   "execution_count": 2,
   "id": "f7b4b581",
   "metadata": {},
   "outputs": [
    {
     "name": "stdout",
     "output_type": "stream",
     "text": [
      "True\r\n"
     ]
    }
   ],
   "source": [
    "String str = \"Supercalifragilisticexpialidocious\";\n",
    "String substr1 = \"ice\";\n",
    "Console.WriteLine(str.Contains(substr1));"
   ]
  },
  {
   "cell_type": "code",
   "execution_count": 3,
   "id": "0655903d",
   "metadata": {},
   "outputs": [
    {
     "name": "stdout",
     "output_type": "stream",
     "text": [
      "Longest words are:\n",
      "Supercalifragilisticexpialidocious\n",
      "Bababadalgharaghtakamminarronnkonn\n"
     ]
    }
   ],
   "source": [
    "string[] arr = new string[] { \"Supercalifragilisticexpialidocious\", \"Honorificabilitudinitatibus\", \"Bababadalgharaghtakamminarronnkonn\"};\n",
    "int longest = arr.Max(w => w.Length);\n",
    "Console.WriteLine(\"Longest words are:\");\n",
    "foreach (string x in arr)\n",
    "{\n",
    "    if (x.Length == longest)\n",
    "       Console.WriteLine(x);\n",
    "}"
   ]
  },
  {
   "cell_type": "code",
   "execution_count": 4,
   "id": "53ea9825",
   "metadata": {},
   "outputs": [
    {
     "name": "stdout",
     "output_type": "stream",
     "text": [
      "First composer is Bartok\n",
      "Last composer is Buxtehude\n"
     ]
    }
   ],
   "source": [
    "using System;\n",
    "using System.Collections.Generic;\n",
    "\n",
    "var words = new List<string> {\"Berlioz\", \"Borodin\", \"Brian\",\n",
    "\"Bartok\", \"Bellini\", \"Buxtehude\", \"Bernstein\"};\n",
    "\n",
    "words.Sort();\n",
    "var firstWord = words.First();\n",
    "var lastWord = words.Last();\n",
    "Console.WriteLine(\"First composer is \"+ firstWord);\n",
    "Console.WriteLine(\"Last composer is \"+ lastWord);"
   ]
  },
  {
   "cell_type": "markdown",
   "id": "eb1692c9",
   "metadata": {},
   "source": [
    "# 3. C#\n",
    "\n",
    "Implement function triangleArea(a,b,c) that takes as input the lengths of the 3\n",
    "sides of a triangle and returns the area of the triangle. By Heron's formula, the area\n",
    "of a triangle with side lengths a, b, and c is\n",
    "s(s - a)(s -b)(s -c)\n",
    ", where\n",
    "s = (a+b+c)/2.\n",
    ">>>triangleArea(2,2,2)\n",
    "1.7320508075688772"
   ]
  },
  {
   "cell_type": "code",
   "execution_count": 5,
   "id": "3ddcba18",
   "metadata": {},
   "outputs": [
    {
     "name": "stdout",
     "output_type": "stream",
     "text": [
      "1.7320508075688772\r\n"
     ]
    }
   ],
   "source": [
    "using System;\n",
    "\n",
    "static void triangleArea(double a, double b, double c)\n",
    "        {\n",
    "            double s, area;\n",
    "            s = (a + b + c) / 2;\n",
    "            area = Math.Sqrt(s * ( s - a) * (s - b) * (s - c)); \n",
    "            Console.WriteLine(area);\n",
    "        }   \n",
    "triangleArea(2,2,2)"
   ]
  },
  {
   "cell_type": "markdown",
   "id": "9671a6cc",
   "metadata": {},
   "source": [
    "# 4. C#\n",
    "\n",
    "Write a program in C# Sharp to separate odd and even integers in separate arrays.\n",
    "Go to the editor\n",
    "Test Data :\n",
    "Input the number of elements to be stored in the array :5\n",
    "Input 5 elements in the array :\n",
    "element - 0 : 25\n",
    "element - 1 : 47\n",
    "element - 2 : 42\n",
    "element - 3 : 56\n",
    "element - 4 : 32\n",
    "Expected Output:\n",
    "The Even elements are:\n",
    "42 56 32\n",
    "The Odd elements are :\n",
    "25 47"
   ]
  },
  {
   "cell_type": "code",
   "execution_count": 6,
   "id": "0d531c0d",
   "metadata": {},
   "outputs": [
    {
     "name": "stdout",
     "output_type": "stream",
     "text": [
      "number of elements to be stored in the array: 5\n",
      "Input 5 elements in array: \n",
      "element-0: 25\n",
      "element-1: 47\n",
      "element-2: 42\n",
      "element-3: 56\n",
      "element-4: 32\n",
      "The Even elements are:\n",
      "42 56 32\n",
      "The Odd elements are:\n",
      "25 47\n"
     ]
    }
   ],
   "source": [
    "using System;\n",
    "using System.Collections.Generic;\n",
    "List<int> oddList = new List<int>();\n",
    "List<int> evenList = new List<int>();\n",
    "int arrLength = 5;\n",
    "Console.WriteLine(\"number of elements to be stored in the array: {0}\",arrLength);\n",
    "Console.WriteLine(\"Input {0} elements in array: \",arrLength);\n",
    "int[] arr = {25,47,42,56,32};\n",
    "for (int i =0;i<arrLength;i++)\n",
    "   {\n",
    "     Console.WriteLine(\"element-{0}: {1}\",i, arr[i]);\n",
    "   }\n",
    "\n",
    "foreach (var element in arr)\n",
    "   {   \n",
    "      if (element % 2 == 0)\n",
    "          {\n",
    "            evenList.Add(element);\n",
    "           }\n",
    "      else\n",
    "           {\n",
    "               oddList.Add(element);\n",
    "           }\n",
    "    }\n",
    "Console.WriteLine(\"The Even elements are:\\n{0}\", string.Join(\" \", evenList ));\n",
    "Console.WriteLine(\"The Odd elements are:\\n{0}\",string.Join(\" \", oddList ));"
   ]
  },
  {
   "cell_type": "markdown",
   "id": "00467dc1",
   "metadata": {},
   "source": [
    "# 5. C#\n",
    "\n",
    "a. Write a function inside(x,y,x1,y1,x2,y2) that returns True or False\n",
    "depending on whether the point (x,y) lies in the rectangle with lower left\n",
    "corner (x1,y1) and upper right corner (x2,y2).\n",
    ">>>inside(1,1,0,0,2,3)\n",
    "True\n",
    ">>> inside(-1,-1,0,0,2,3)\n",
    "False\n",
    "\n",
    "b. Use function inside() from part a. to write an expression that tests whether\n",
    "the point (1,1) lies in both of the following rectangles: one with lower left\n",
    "corner (0.3, 0.5) and upper right corner (1.1, 0.7) and the other with lower\n",
    "left corner (0.5, 0.2) and upper right corner (1.1, 2). "
   ]
  },
  {
   "cell_type": "code",
   "execution_count": 1,
   "id": "60093f35",
   "metadata": {},
   "outputs": [
    {
     "name": "stdout",
     "output_type": "stream",
     "text": [
      "False: Given points not inside both rectangles"
     ]
    }
   ],
   "source": [
    "static string inside(int x, int y, double x1,\n",
    "                      double y1, double x2, double y2)\n",
    "{\n",
    "if (x > x1 && x < x2 &&\n",
    "    y > y1 && y < y2)\n",
    "    return \"True\";\n",
    "else \n",
    "    return \"False\";\n",
    "}\n",
    "\n",
    "if (inside(1,1,0.3,0.5,1.1,0.7) == \"True\" && inside(1,1,0.5,0.2,1.1,2)== \"True\" )\n",
    "    Console.Write(\"True: Given points inside both rectangles\");\n",
    "else\n",
    "    Console.Write(\"False: Given points not inside both rectangles\");"
   ]
  },
  {
   "cell_type": "code",
   "execution_count": 2,
   "id": "fcf65c96",
   "metadata": {},
   "outputs": [
    {
     "data": {
      "text/plain": [
       "True"
      ]
     },
     "execution_count": 2,
     "metadata": {},
     "output_type": "execute_result"
    }
   ],
   "source": [
    "inside(1,1,0,0,2,3)"
   ]
  },
  {
   "cell_type": "code",
   "execution_count": 3,
   "id": "c941f93d",
   "metadata": {},
   "outputs": [
    {
     "data": {
      "text/plain": [
       "False"
      ]
     },
     "execution_count": 3,
     "metadata": {},
     "output_type": "execute_result"
    }
   ],
   "source": [
    "inside(-1,-1,0,0,2,3)"
   ]
  },
  {
   "cell_type": "markdown",
   "id": "593a202d",
   "metadata": {},
   "source": [
    "# 6. Python\n",
    "\n",
    " You can turn a word into pig-Latin using the following two rules (simplified):\n",
    "• If the word starts with a consonant, move that letter to the end and append\n",
    "'ay'. For example, 'happy' becomes 'appyhay' and 'pencil' becomes 'encilpay'.\n",
    "• If the word starts with a vowel, simply append 'way' to the end of the word.\n",
    "For example, 'enter' becomes 'enterway' and 'other' becomes 'otherway' . For\n",
    "our purposes, there are 5 vowels: a, e, i, o, u (so we count y as a consonant).\n",
    "Write a function pig() that takes a word (i.e., a string) as input and returns its pigLatin form. Your function should still work if the input word contains upper case\n",
    "characters. Your output should always be lower case however.\n",
    ">>> pig('happy')\n",
    "'appyhay'\n",
    ">>> pig('Enter')\n",
    "'enterway' "
   ]
  },
  {
   "cell_type": "code",
   "execution_count": 1,
   "id": "530d3367",
   "metadata": {},
   "outputs": [],
   "source": [
    "def pig(word):\n",
    "   vowel = 'aeiou'\n",
    "   word = word.lower()\n",
    "   if word[0] in vowel:\n",
    "       pig_word = word + 'way'\n",
    "       print(pig_word)\n",
    "   else:\n",
    "       new_word = word.replace(word[0],'')\n",
    "       pig_word = new_word + word[0] + 'ay'\n",
    "       print(pig_word)"
   ]
  },
  {
   "cell_type": "code",
   "execution_count": 2,
   "id": "4a435fad",
   "metadata": {},
   "outputs": [
    {
     "name": "stdout",
     "output_type": "stream",
     "text": [
      "appyhay\n"
     ]
    }
   ],
   "source": [
    "pig('happy')"
   ]
  },
  {
   "cell_type": "code",
   "execution_count": 3,
   "id": "307776fc",
   "metadata": {},
   "outputs": [
    {
     "name": "stdout",
     "output_type": "stream",
     "text": [
      "enterway\n"
     ]
    }
   ],
   "source": [
    "pig('Enter')"
   ]
  },
  {
   "cell_type": "markdown",
   "id": "679770f1",
   "metadata": {},
   "source": [
    "# 7. Python\n",
    "\n",
    "File bloodtype1.txt records blood-types of patients (A, B, AB, O or OO) at a clinic.\n",
    "Write a function bldcount() that reads the file with name name and reports (i.e.,\n",
    "prints) how many patients there are in each bloodtype.\n",
    ">>> bldcount('bloodtype.txt')\n",
    "There are 10 patients of blood type A.\n",
    "There is one patient of blood type B.\n",
    "There are 10 patients of blood type AB.\n",
    "There are 12 patients of blood type O.\n",
    "There are no patients of blood type OO."
   ]
  },
  {
   "cell_type": "code",
   "execution_count": 4,
   "id": "e58366dd",
   "metadata": {},
   "outputs": [],
   "source": [
    "def bldcount(filename):\n",
    "    f = open(filename, \"r\")\n",
    "    bldtype = f.read()\n",
    "    bldtype_list = bldtype.split()\n",
    "    bldtypes = ['A','B','AB','O','OO']\n",
    "    for bld in bldtypes:\n",
    "        count = bldtype_list.count(bld)\n",
    "        print(\"There are \" + str(count) +\" patients of blood type \" + bld +\".\")"
   ]
  },
  {
   "cell_type": "code",
   "execution_count": 5,
   "id": "97a602d9",
   "metadata": {},
   "outputs": [
    {
     "name": "stdout",
     "output_type": "stream",
     "text": [
      "There are 15 patients of blood type A.\n",
      "There are 1 patients of blood type B.\n",
      "There are 13 patients of blood type AB.\n",
      "There are 15 patients of blood type O.\n",
      "There are 0 patients of blood type OO.\n"
     ]
    }
   ],
   "source": [
    "bldcount('bloodtype1.txt')"
   ]
  },
  {
   "cell_type": "markdown",
   "id": "58522479",
   "metadata": {},
   "source": [
    "# 8. Python\n",
    "\n",
    "Write a function curconv() that takes as input:\n",
    "1. a currency represented using a string (e.g., 'JPY' for the Japanese Yen or\n",
    "'EUR' for the Euro)\n",
    "2. an amount\n",
    "and then converts and returns the amount in US dollars.\n",
    ">>> curconv('EUR', 100)\n",
    "122.96544\n",
    ">>> curconv('JPY', 100)\n",
    "1.241401\n",
    "\n",
    "The currency rates you will need are stored in file currencies.txt:\n",
    "AUD 1.0345157 Australian Dollar\n",
    "CHF 1.0237414 Swiss Franc\n",
    "CNY 0.1550176 Chinese Yuan\n",
    "DKK 0.1651442 Danish Krone\n",
    "EUR 1.2296544 Euro\n",
    "GBP 1.5550989 British Pound\n",
    "HKD 0.1270207 Hong Kong Dollar\n",
    "INR 0.0177643 Indian Rupee\n",
    "JPY 0.01241401 Japanese Yen\n",
    "MXN 0.0751848 Mexican Peso\n",
    "MYR 0.3145411 Malaysian Ringgit\n",
    "NOK 0.1677063 Norwegian Krone\n",
    "NZD 0.8003591 New Zealand Dollar\n",
    "PHP 0.0233234 Philippine Peso\n",
    "SEK 0.148269 Swedish Krona\n",
    "SGD 0.788871 Singapore Dollar\n",
    "THB 0.0313789 Thai Baht"
   ]
  },
  {
   "cell_type": "code",
   "execution_count": 6,
   "id": "ea2bb0f4",
   "metadata": {},
   "outputs": [],
   "source": [
    "def curconv(cur, amount):\n",
    "    f = open('currencies.txt', \"r\")\n",
    "    currencies = f.readlines()\n",
    "    for line in currencies:\n",
    "        if cur in line:\n",
    "            convAmount = float(line.split()[1]) * amount\n",
    "            print(convAmount)"
   ]
  },
  {
   "cell_type": "code",
   "execution_count": 7,
   "id": "d495c0ac",
   "metadata": {},
   "outputs": [
    {
     "name": "stdout",
     "output_type": "stream",
     "text": [
      "122.96544\n"
     ]
    }
   ],
   "source": [
    "curconv('EUR', 100)"
   ]
  },
  {
   "cell_type": "code",
   "execution_count": 8,
   "id": "d30b5b91",
   "metadata": {},
   "outputs": [
    {
     "name": "stdout",
     "output_type": "stream",
     "text": [
      "1.241401\n"
     ]
    }
   ],
   "source": [
    "curconv('JPY', 100)"
   ]
  },
  {
   "cell_type": "markdown",
   "id": "adf32bc5",
   "metadata": {},
   "source": [
    "#  9. Python\n",
    "\n",
    "Each of the following will cause an exception (an error). Identify what type of\n",
    "exception each will cause.\n",
    "\n",
    "1.Trying to add incompatible variables, as in  adding 6 + ‘a’ \n",
    "\n",
    "Ans: TypeError: unsupported operand type(s) for +: 'int' and 'str'\n",
    "\n",
    "2.Referring to the 12th item of a list that has only 10  \n",
    "items \n",
    "\n",
    "Ans: IndexError: list index out of range\n",
    "\n",
    "3.Using a value that is out of range for a function’s input, such as calling math.sqrt(-1.0) \n",
    "\n",
    "Ans: ValueError: math domain error\n",
    "\n",
    "4.Using an undeclared variable, such as print(x) when x has not been defined  \n",
    "\n",
    "Ans: NameError: name 'x' is not defined\n",
    "\n",
    "5.Trying to open a file that does not exist, such as mistyping the file name or looking in the wrong directory. \n",
    "\n",
    "Ans: FileNotFoundError: [Errno 2] No such file or directory: 'new.txt'"
   ]
  },
  {
   "cell_type": "markdown",
   "id": "7129742e",
   "metadata": {},
   "source": [
    "# 10. Python\n",
    "\n",
    "Encryption is the process of hiding the meaning of a text by substituting letters in the\n",
    "message with other letters, according to some system. If the process is successful, no\n",
    "one but the intended recipient can understand the encrypted message. Cryptanalysis\n",
    "refers to attempts to undo the encryption, even if some details of the encryption are\n",
    "unknown (for example, if an encrypted message has been intercepted). The first step\n",
    "of cryptanalysis is often to build up a table of letter frequencies in the encrypted text.\n",
    "Assume that the string letters is already defined as\n",
    "'abcdefghijklmnopqrstuvwxyz'. Write a function called frequencies()\n",
    "that takes a string as its only parameter, and returns a list of integers, showing the\n",
    "number of times each character appears in the text. Your function may ignore any\n",
    "characters that are not in letters.\n",
    ">>> frequencies('The quick red fox got bored and went home.')\n",
    "[1, 1, 1, 3, 5, 1, 1, 2, 1, 0, 1, 0, 1, 2, 4, 0, 1, 2, 0, 2, 1, 0, 1, 1, 0, 0]\n",
    ">>> frequencies('apple')"
   ]
  },
  {
   "cell_type": "code",
   "execution_count": 5,
   "id": "1d84298a",
   "metadata": {},
   "outputs": [],
   "source": [
    "def frequencies(words):\n",
    "    letters = 'abcdefghijklmnopqrstuvwxyz'\n",
    "    ltrList = list(letters)\n",
    "    words = words.lower()\n",
    "    newList = []\n",
    "    for letter in ltrList:\n",
    "        if letter in words:\n",
    "            newList.append(words.count(letter))\n",
    "        else:\n",
    "            newList.append(0)\n",
    "    print(newList)"
   ]
  },
  {
   "cell_type": "code",
   "execution_count": 6,
   "id": "02fb8237",
   "metadata": {},
   "outputs": [
    {
     "name": "stdout",
     "output_type": "stream",
     "text": [
      "[1, 1, 1, 3, 5, 1, 1, 2, 1, 0, 1, 0, 1, 2, 4, 0, 1, 2, 0, 3, 1, 0, 1, 1, 0, 0]\n"
     ]
    }
   ],
   "source": [
    "frequencies(\"The quick red fox got bored and went home.\")"
   ]
  },
  {
   "cell_type": "code",
   "execution_count": 7,
   "id": "d8899255",
   "metadata": {},
   "outputs": [
    {
     "name": "stdout",
     "output_type": "stream",
     "text": [
      "[1, 0, 0, 0, 1, 0, 0, 0, 0, 0, 0, 1, 0, 0, 0, 2, 0, 0, 0, 0, 0, 0, 0, 0, 0, 0]\n"
     ]
    }
   ],
   "source": [
    "frequencies(\"apple\")"
   ]
  }
 ],
 "metadata": {
  "kernelspec": {
   "display_name": "Python 3",
   "language": "python",
   "name": "python3"
  },
  "language_info": {
   "codemirror_mode": {
    "name": "ipython",
    "version": 3
   },
   "file_extension": ".py",
   "mimetype": "text/x-python",
   "name": "python",
   "nbconvert_exporter": "python",
   "pygments_lexer": "ipython3",
   "version": "3.8.8"
  }
 },
 "nbformat": 4,
 "nbformat_minor": 5
}
